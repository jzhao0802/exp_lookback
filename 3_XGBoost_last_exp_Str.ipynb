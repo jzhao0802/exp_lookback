{
 "cells": [
  {
   "cell_type": "code",
   "execution_count": 288,
   "metadata": {},
   "outputs": [],
   "source": [
    "from xgboost import XGBClassifier\n",
    "from sklearn.model_selection import KFold, StratifiedKFold, cross_val_score\n",
    "from sklearn.metrics import precision_recall_curve, accuracy_score, confusion_matrix\n",
    "from pyarrow.feather import read_feather\n",
    "import matplotlib.pyplot as plt\n",
    "import pandas as pd\n",
    "import sys\n",
    "import sklearn\n",
    "import numpy as np\n",
    "import xlsxwriter\n",
    "\n",
    "%matplotlib inline"
   ]
  },
  {
   "cell_type": "code",
   "execution_count": 38,
   "metadata": {
    "collapsed": true
   },
   "outputs": [],
   "source": [
    "sys.path.append(\"F:\\Valentina\\Experiments\\exp_lookback\\mylib\")\n",
    "import cv_toolkit as mycv"
   ]
  },
  {
   "cell_type": "code",
   "execution_count": 251,
   "metadata": {
    "collapsed": true
   },
   "outputs": [],
   "source": [
    "def get_cols(df, stem):\n",
    "    return [col for col in list(df) if stem in col]\n",
    "\n",
    "def cut_lookback(x, max_days):\n",
    "    return x.where(x <= max_days, np.nan)\n",
    "\n",
    "def cut_df(df, yrs):\n",
    "    df_tmp = df.copy()\n",
    "    for col in list(df):\n",
    "        df_tmp[col] = cut_lookback(df_tmp[col], 365*yrs)\n",
    "    return df_tmp\n",
    "\n",
    "def cv_imp_feature(cv_outputs, f_cols):\n",
    "    feature_imp = pd.DataFrame()\n",
    "    feature_imp['Feature'] = f_cols\n",
    "    for i in range(len(cv_outputs['models'])):  \n",
    "        col = 'Fold_' + str(i)\n",
    "        feature_imp[col] = cv_outputs['models'][i].feature_importances_\n",
    "    feature_imp['Mean_score'] = feature_imp.iloc[:,1:].mean(axis=1)\n",
    "    feature_imp.sort_values(by= 'Mean_score', axis = 0, ascending = False, inplace =True)\n",
    "    feature_imp = feature_imp.reset_index(drop = True)\n",
    "    return feature_imp"
   ]
  },
  {
   "cell_type": "code",
   "execution_count": 3,
   "metadata": {
    "collapsed": true
   },
   "outputs": [],
   "source": [
    "#set parameters\n",
    "filename = \"F:\\\\Valentina\\\\Experiments\\\\exp_lookback\\\\extra_data\\\\st_combined_train_unmatched_test_capped_freq_datediff_alldays.feather\"\n",
    "last_exp_stem = 'LAST_EXP_'\n",
    "label = \"label\"\n",
    "pos_label = 1\n",
    "neg_label = 0"
   ]
  },
  {
   "cell_type": "code",
   "execution_count": 60,
   "metadata": {},
   "outputs": [],
   "source": [
    "#select columns from dataset\n",
    "df = read_feather(filename)\n",
    "exp_cols = get_cols(df, last_exp_stem)\n",
    "cols = exp_cols + [label]\n",
    "df = df[cols]"
   ]
  },
  {
   "cell_type": "code",
   "execution_count": 61,
   "metadata": {},
   "outputs": [],
   "source": [
    "#set 1:50 ratio\n",
    "ratio = 50\n",
    "n_pos = df[df[label] == pos_label].shape[0]\n",
    "n_neg = df[df[label] == neg_label].shape[0]\n",
    "n_sample_neg = n_pos *ratio\n",
    "sampled_neg = df[df[label] == neg_label].sample(n= n_sample_neg, random_state = 2)\n",
    "sampled_df = pd.concat([df[df[label] == pos_label], sampled_neg])\n",
    "sampled_df = sampled_df.reset_index(drop=True)"
   ]
  },
  {
   "cell_type": "code",
   "execution_count": 15,
   "metadata": {},
   "outputs": [
    {
     "name": "stdout",
     "output_type": "stream",
     "text": [
      "1553 1628335 77650 79203\n"
     ]
    }
   ],
   "source": [
    "print(n_pos, n_neg, n_pos*50, n_pos +n_pos*50)"
   ]
  },
  {
   "cell_type": "code",
   "execution_count": 17,
   "metadata": {},
   "outputs": [
    {
     "name": "stdout",
     "output_type": "stream",
     "text": [
      "(79203, 342)\n"
     ]
    }
   ],
   "source": [
    "print(sampled_df.shape)"
   ]
  },
  {
   "cell_type": "code",
   "execution_count": null,
   "metadata": {},
   "outputs": [],
   "source": [
    "#using sklearn methods\n",
    "model = XGBClassifier\n",
    "kfold = KFold(n_splits = 5, random_state = 7, shuffle = True)\n",
    "results = cross_val_score(estimator = model,\n",
    "                          X = sampled_df[exp_cols], \n",
    "                          y = sampled_df[label], \n",
    "                          cv = kfold)\n",
    "print(\"Accuracy: %.2f%% (%.2f%%)\" % (results.mean()*100, results.std()*100))"
   ]
  },
  {
   "cell_type": "code",
   "execution_count": 112,
   "metadata": {
    "scrolled": true
   },
   "outputs": [],
   "source": [
    "#using Shaun library for cv\n",
    "#model = XGBClassifier(n_estimators = 50)\n",
    "model = XGBClassifier\n",
    "kfold = StratifiedKFold(n_splits = 5, random_state = 7, shuffle = True)\n",
    "cv_outputs = mycv.run_CV(X = sampled_df[exp_cols], \n",
    "                         y = sampled_df[label], \n",
    "                         clf_class = model,\n",
    "                         cv_method=kfold,\n",
    "                         flatten=True)"
   ]
  },
  {
   "cell_type": "code",
   "execution_count": 113,
   "metadata": {
    "collapsed": true
   },
   "outputs": [],
   "source": [
    "eval_metrics = [precision_recall_curve, accuracy_score, confusion_matrix]\n",
    "output_metrics ={}\n",
    "output_metrics['All'] = mycv.calc_CV_metrics(**cv_outputs['predictions']['test'],\n",
    "                                            metrics=eval_metrics, models=cv_outputs['models'],\n",
    "                                            feature_names=exp_cols)\n"
   ]
  },
  {
   "cell_type": "code",
   "execution_count": 114,
   "metadata": {},
   "outputs": [
    {
     "data": {
      "text/plain": [
       "Text(0,0.5,'Precision')"
      ]
     },
     "execution_count": 114,
     "metadata": {},
     "output_type": "execute_result"
    },
    {
     "data": {
      "image/png": "[encoded data removed]",
      "text/plain": [
       "<matplotlib.figure.Figure at 0x12c4a619518>"
      ]
     },
     "metadata": {},
     "output_type": "display_data"
    }
   ],
   "source": [
    "pd.DataFrame.from_dict(output_metrics['All']['precision_recall_curve']).plot(x='recall', y='precision', legend=False)\n",
    "plt.xlabel('Recall')\n",
    "plt.ylabel('Precision')"
   ]
  },
  {
   "cell_type": "code",
   "execution_count": 147,
   "metadata": {},
   "outputs": [
    {
     "data": {
      "text/html": [
       "<div>\n",
       "<style scoped>\n",
       "    .dataframe tbody tr th:only-of-type {\n",
       "        vertical-align: middle;\n",
       "    }\n",
       "\n",
       "    .dataframe tbody tr th {\n",
       "        vertical-align: top;\n",
       "    }\n",
       "\n",
       "    .dataframe thead th {\n",
       "        text-align: right;\n",
       "    }\n",
       "</style>\n",
       "<table border=\"1\" class=\"dataframe\">\n",
       "  <thead>\n",
       "    <tr style=\"text-align: right;\">\n",
       "      <th></th>\n",
       "      <th>Feature</th>\n",
       "      <th>Score</th>\n",
       "    </tr>\n",
       "  </thead>\n",
       "  <tbody>\n",
       "    <tr>\n",
       "      <th>0</th>\n",
       "      <td>D_4010_LAST_EXP_DT</td>\n",
       "      <td>0.097523</td>\n",
       "    </tr>\n",
       "    <tr>\n",
       "      <th>1</th>\n",
       "      <td>D_2768_LAST_EXP_DT</td>\n",
       "      <td>0.061920</td>\n",
       "    </tr>\n",
       "    <tr>\n",
       "      <th>2</th>\n",
       "      <td>G_797000_LAST_EXP_DT</td>\n",
       "      <td>0.052632</td>\n",
       "    </tr>\n",
       "    <tr>\n",
       "      <th>3</th>\n",
       "      <td>S_S44_LAST_EXP_</td>\n",
       "      <td>0.041796</td>\n",
       "    </tr>\n",
       "    <tr>\n",
       "      <th>4</th>\n",
       "      <td>G_371000_LAST_EXP_DT</td>\n",
       "      <td>0.040248</td>\n",
       "    </tr>\n",
       "  </tbody>\n",
       "</table>\n",
       "</div>"
      ],
      "text/plain": [
       "                Feature     Score\n",
       "0    D_4010_LAST_EXP_DT  0.097523\n",
       "1    D_2768_LAST_EXP_DT  0.061920\n",
       "2  G_797000_LAST_EXP_DT  0.052632\n",
       "3       S_S44_LAST_EXP_  0.041796\n",
       "4  G_371000_LAST_EXP_DT  0.040248"
      ]
     },
     "execution_count": 147,
     "metadata": {},
     "output_type": "execute_result"
    }
   ],
   "source": [
    "feature_imp.head()"
   ]
  },
  {
   "cell_type": "markdown",
   "metadata": {},
   "source": [
    "## Running models on different lookback cut offs"
   ]
  },
  {
   "cell_type": "code",
   "execution_count": 184,
   "metadata": {},
   "outputs": [
    {
     "name": "stdout",
     "output_type": "stream",
     "text": [
      "ALL\n",
      "Computing dataframe...\n",
      "Running crossvalidation...\n",
      "Computing metrics...\n",
      "Computing feature importance...\n",
      "2 yrs\n",
      "Computing dataframe...\n",
      "Running crossvalidation...\n",
      "Computing metrics...\n",
      "Computing feature importance...\n",
      "1yr\n",
      "Computing dataframe...\n",
      "Running crossvalidation...\n",
      "Computing metrics...\n",
      "Computing feature importance...\n",
      "6 mo\n",
      "Computing dataframe...\n",
      "Running crossvalidation...\n",
      "Computing metrics...\n",
      "Computing feature importance...\n",
      "3mo\n",
      "Computing dataframe...\n",
      "Running crossvalidation...\n",
      "Computing metrics...\n",
      "Computing feature importance...\n",
      "1day\n",
      "Computing dataframe...\n",
      "Running crossvalidation...\n",
      "Computing metrics...\n",
      "Computing feature importance...\n"
     ]
    }
   ],
   "source": [
    "#performing loop on different selection of features\n",
    "output_metrics ={}\n",
    "feature_imp = {}\n",
    "model = XGBClassifier\n",
    "kfold = StratifiedKFold(n_splits = 5, random_state = 7, shuffle = True)\n",
    "#params = {'n_estimators': 50}\n",
    "model_features = {'ALL': 5, '2 yrs': 2, '1yr': 1, '6 mo': 0.5, '3 mo': 0.25, '1 d': 1/365 }\n",
    "\n",
    "for model_name, looklength in model_features.items():\n",
    "    print(model_name)\n",
    "    print(\"Computing dataframe...\")\n",
    "    modelling_data = cut_df(sampled_df, looklength)\n",
    "    print(\"Running crossvalidation...\")\n",
    "    cv_outputs = mycv.run_CV(X = modelling_data[exp_cols], \n",
    "                         y = modelling_data[label], \n",
    "                         clf_class = model,\n",
    "                         cv_method=kfold,\n",
    "                         flatten=True)\n",
    "    print(\"Computing metrics...\")\n",
    "    output_metrics[model_name] = mycv.calc_CV_metrics(**cv_outputs['predictions']['test'],\n",
    "                                            metrics=eval_metrics, models=cv_outputs['models'],\n",
    "                                            feature_names=exp_cols)\n",
    "    print(\"Computing feature importance...\")\n",
    "    feature_imp[model_name] = cv_imp_feature(cv_outputs, exp_cols)\n"
   ]
  },
  {
   "cell_type": "code",
   "execution_count": 185,
   "metadata": {},
   "outputs": [
    {
     "data": {
      "image/png": "[encoded data removed]",
      "text/plain": [
       "<matplotlib.figure.Figure at 0x12c320c0588>"
      ]
     },
     "metadata": {},
     "output_type": "display_data"
    }
   ],
   "source": [
    "for model in output_metrics.keys():\n",
    "    pr = pd.DataFrame.from_dict(output_metrics[model]['precision_recall_curve'])\n",
    "    plt.plot(pr['recall'], pr['precision'], label = model)\n",
    "\n",
    "plt.xlim(0.5,1.0)\n",
    "plt.xlabel('Recall')\n",
    "plt.ylabel('Precision')\n",
    "plt.legend()\n",
    "plt.show()"
   ]
  },
  {
   "cell_type": "markdown",
   "metadata": {},
   "source": [
    "## Running the model using only date differences ON the index date"
   ]
  },
  {
   "cell_type": "code",
   "execution_count": 226,
   "metadata": {},
   "outputs": [
    {
     "data": {
      "text/plain": [
       "4"
      ]
     },
     "execution_count": 226,
     "metadata": {},
     "output_type": "execute_result"
    }
   ],
   "source": [
    "#few predictors happen only on the index date\n",
    "(modelling_data[exp_cols].isnull().sum() == 79203).sum()"
   ]
  },
  {
   "cell_type": "code",
   "execution_count": 229,
   "metadata": {},
   "outputs": [],
   "source": [
    "exclude_cols = []\n",
    "for col in list(modelling_data[exp_cols]):\n",
    "    if modelling_data[col].isnull().sum() == 79203: exclude_cols.append(col)"
   ]
  },
  {
   "cell_type": "code",
   "execution_count": 252,
   "metadata": {},
   "outputs": [
    {
     "name": "stdout",
     "output_type": "stream",
     "text": [
      "Computing dataframe...\n",
      "Running crossvalidation...\n",
      "Computing metrics...\n",
      "Computing feature importance...\n"
     ]
    }
   ],
   "source": [
    "#4 stems happens only on the index date\n",
    "#1 label put to nan by previous code\n",
    "model_name = 'ID only'\n",
    "cols_1D = list(set(exp_cols) - set(exclude_cols))  \n",
    "kfold = StratifiedKFold(n_splits = 5, random_state = 7, shuffle = True)\n",
    "model = XGBClassifier\n",
    "print(\"Computing dataframe...\")\n",
    "y = sampled_df[label]\n",
    "modelling_data = cut_df(sampled_df[cols_1D], 0.9/365)\n",
    "print(\"Running crossvalidation...\")\n",
    "cv_outputs = mycv.run_CV(X = modelling_data, \n",
    "                     y = y, \n",
    "                     clf_class = model,\n",
    "                     cv_method=kfold,\n",
    "                     flatten=True)\n",
    "print(\"Computing metrics...\")\n",
    "output_metrics[model_name] = mycv.calc_CV_metrics(**cv_outputs['predictions']['test'],\n",
    "                                        metrics=eval_metrics, models=cv_outputs['models'],\n",
    "                                        feature_names=cols_1D)\n",
    "print(\"Computing feature importance...\")\n",
    "feature_imp[model_name] = cv_imp_feature(cv_outputs, cols_1D)"
   ]
  },
  {
   "cell_type": "code",
   "execution_count": 265,
   "metadata": {},
   "outputs": [
    {
     "data": {
      "image/png": "[encoded data removed]",
      "text/plain": [
       "<matplotlib.figure.Figure at 0x12c258b3ba8>"
      ]
     },
     "metadata": {},
     "output_type": "display_data"
    }
   ],
   "source": [
    "#model that includes only index date events is 15-20% worse than the full model\n",
    "#model that includes only events in the last 6 months is about 5% worse\n",
    "plt.figure(figsize = (8,9))\n",
    "for model in ['ALL', '2 yrs', '1yr', '6 mo', 'ID only']:\n",
    "    pr = pd.DataFrame.from_dict(output_metrics[model]['precision_recall_curve'])\n",
    "    plt.plot(pr['recall'], pr['precision'], label = model)\n",
    "\n",
    "plt.grid()\n",
    "plt.xlim(0.4,1.0)\n",
    "plt.xlabel('Recall')\n",
    "plt.ylabel('Precision')\n",
    "plt.legend()\n",
    "plt.show()"
   ]
  },
  {
   "cell_type": "code",
   "execution_count": 284,
   "metadata": {},
   "outputs": [
    {
     "data": {
      "text/plain": [
       "set()"
      ]
     },
     "execution_count": 284,
     "metadata": {},
     "output_type": "execute_result"
    }
   ],
   "source": [
    "set(feature_imp['ALL'].head(10)['Feature']) - set(feature_imp['6 mo'].head(10)['Feature'])"
   ]
  },
  {
   "cell_type": "code",
   "execution_count": 285,
   "metadata": {
    "scrolled": true
   },
   "outputs": [
    {
     "data": {
      "text/plain": [
       "{'G_371000_LAST_EXP_DT', 'G_797000_LAST_EXP_DT'}"
      ]
     },
     "execution_count": 285,
     "metadata": {},
     "output_type": "execute_result"
    }
   ],
   "source": [
    "#the top predictors are slightly different when including only the index date\n",
    "set(feature_imp['6 mo'].head(10)['Feature']) - set(feature_imp['ID only'].head(10)['Feature'])"
   ]
  },
  {
   "cell_type": "code",
   "execution_count": 296,
   "metadata": {},
   "outputs": [],
   "source": [
    "workbook = pd.ExcelWriter('Strongbridge.xlsx', engine = 'xlsxwriter')\n",
    "for model in ['ALL', '2 yrs', '1yr', '6 mo', 'ID only']:\n",
    "    pr =  pd.DataFrame.from_dict(output_metrics[model]['precision_recall_curve']).sort_values(by='recall')\n",
    "    pr.iloc[::50, :].to_excel(workbook, sheet_name= model)\n",
    "workbook.save()"
   ]
  },
  {
   "cell_type": "code",
   "execution_count": null,
   "metadata": {
    "collapsed": true
   },
   "outputs": [],
   "source": []
  }
 ],
 "metadata": {
  "kernelspec": {
   "display_name": "Python 3",
   "language": "python",
   "name": "python3"
  },
  "language_info": {
   "codemirror_mode": {
    "name": "ipython",
    "version": 3
   },
   "file_extension": ".py",
   "mimetype": "text/x-python",
   "name": "python",
   "nbconvert_exporter": "python",
   "pygments_lexer": "ipython3",
   "version": "3.6.3"
  }
 },
 "nbformat": 4,
 "nbformat_minor": 2
}
