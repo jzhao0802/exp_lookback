{
 "cells": [
  {
   "cell_type": "code",
   "execution_count": 1,
   "metadata": {
    "collapsed": true
   },
   "outputs": [],
   "source": [
    "from xgboost import XGBClassifier\n",
    "from sklearn.model_selection import KFold, StratifiedKFold, cross_val_score\n",
    "from sklearn.metrics import precision_recall_curve, accuracy_score, confusion_matrix\n",
    "from pyarrow.feather import read_feather\n",
    "import matplotlib.pyplot as plt\n",
    "import pandas as pd\n",
    "import sys\n",
    "import sklearn\n",
    "import numpy as np\n",
    "import xlsxwriter\n",
    "\n",
    "%matplotlib inline"
   ]
  },
  {
   "cell_type": "code",
   "execution_count": 2,
   "metadata": {
    "collapsed": true
   },
   "outputs": [],
   "source": [
    "sys.path.append(\"F:\\Valentina\\Experiments\\exp_lookback\\mylib\")\n",
    "import cv_toolkit as mycv"
   ]
  },
  {
   "cell_type": "code",
   "execution_count": 3,
   "metadata": {
    "collapsed": true
   },
   "outputs": [],
   "source": [
    "def get_cols(df, stem):\n",
    "    return [col for col in list(df) if stem in col]\n",
    "\n",
    "def cut_lookback(x, max_days):\n",
    "    return x.where(x <= max_days, np.nan)\n",
    "\n",
    "def cut_df(df, yrs):\n",
    "    df_tmp = df.copy()\n",
    "    for col in list(df):\n",
    "        df_tmp[col] = cut_lookback(df_tmp[col], 365*yrs)\n",
    "    return df_tmp\n",
    "\n",
    "def cv_imp_feature(cv_outputs, f_cols):\n",
    "    feature_imp = pd.DataFrame()\n",
    "    feature_imp['Feature'] = f_cols\n",
    "    for i in range(len(cv_outputs['models'])):  \n",
    "        col = 'Fold_' + str(i)\n",
    "        feature_imp[col] = cv_outputs['models'][i].feature_importances_\n",
    "    feature_imp['Mean_score'] = feature_imp.iloc[:,1:].mean(axis=1)\n",
    "    feature_imp.sort_values(by= 'Mean_score', axis = 0, ascending = False, inplace =True)\n",
    "    feature_imp = feature_imp.reset_index(drop = True)\n",
    "    return feature_imp"
   ]
  },
  {
   "cell_type": "code",
   "execution_count": 4,
   "metadata": {
    "collapsed": true
   },
   "outputs": [],
   "source": [
    "#set parameters\n",
    "filename = file_abb = \"F:\\\\Projects\\\\AbbVie_SCLC\\\\data\\\\modelling_data\\\\03_training_reduced_features.csv\"\n",
    "last_exp_stem = 'LAST_EXP'\n",
    "label = \"OUTCOME\"\n",
    "pos_label = 1\n",
    "neg_label = 0"
   ]
  },
  {
   "cell_type": "code",
   "execution_count": 5,
   "metadata": {
    "collapsed": true
   },
   "outputs": [],
   "source": [
    "#select columns from dataset\n",
    "df = pd.read_csv(filename)\n",
    "exp_cols = get_cols(df, last_exp_stem)\n",
    "cols = exp_cols + [label]\n",
    "df = df[cols]"
   ]
  },
  {
   "cell_type": "code",
   "execution_count": 6,
   "metadata": {},
   "outputs": [
    {
     "data": {
      "text/plain": [
       "0    3377\n",
       "1    1665\n",
       "Name: OUTCOME, dtype: int64"
      ]
     },
     "execution_count": 6,
     "metadata": {},
     "output_type": "execute_result"
    }
   ],
   "source": [
    "#no need to change the ratio in this case\n",
    "df[label].value_counts()"
   ]
  },
  {
   "cell_type": "code",
   "execution_count": 7,
   "metadata": {},
   "outputs": [
    {
     "name": "stdout",
     "output_type": "stream",
     "text": [
      "Accuracy: 81.83% (1.60%)\n"
     ]
    }
   ],
   "source": [
    "#using sklearn methods\n",
    "model = XGBClassifier()\n",
    "kfold = StratifiedKFold(n_splits = 5, random_state = 7, shuffle = True)\n",
    "results = cross_val_score(estimator = model,\n",
    "                          X = df[exp_cols], \n",
    "                          y = df[label], \n",
    "                          cv = kfold)\n",
    "print(\"Accuracy: %.2f%% (%.2f%%)\" % (results.mean()*100, results.std()*100))"
   ]
  },
  {
   "cell_type": "code",
   "execution_count": 8,
   "metadata": {
    "scrolled": true
   },
   "outputs": [
    {
     "name": "stdout",
     "output_type": "stream",
     "text": [
      "Running fold  1  ...\n",
      "Running fold  2  ...\n",
      "Running fold  3  ...\n",
      "Running fold  4  ...\n",
      "Running fold  5  ...\n"
     ]
    }
   ],
   "source": [
    "#using Shaun library for cv\n",
    "#model = XGBClassifier(n_estimators = 50)\n",
    "model = XGBClassifier\n",
    "kfold = StratifiedKFold(n_splits = 5, random_state = 7, shuffle = True)\n",
    "cv_outputs = mycv.run_CV(X = df[exp_cols], \n",
    "                         y = df[label], \n",
    "                         clf_class = model,\n",
    "                         cv_method=kfold,\n",
    "                         flatten=True)"
   ]
  },
  {
   "cell_type": "code",
   "execution_count": 9,
   "metadata": {
    "collapsed": true
   },
   "outputs": [],
   "source": [
    "eval_metrics = [precision_recall_curve, accuracy_score, confusion_matrix]\n",
    "output_metrics ={}\n",
    "output_metrics['All'] = mycv.calc_CV_metrics(**cv_outputs['predictions']['test'],\n",
    "                                            metrics=eval_metrics, models=cv_outputs['models'],\n",
    "                                            feature_names=exp_cols)"
   ]
  },
  {
   "cell_type": "code",
   "execution_count": 10,
   "metadata": {},
   "outputs": [
    {
     "data": {
      "text/plain": [
       "Text(0,0.5,'Precision')"
      ]
     },
     "execution_count": 10,
     "metadata": {},
     "output_type": "execute_result"
    },
    {
     "data": {
      "image/png": "[encoded data removed]",
      "text/plain": [
       "<matplotlib.figure.Figure at 0xe631c1d6d8>"
      ]
     },
     "metadata": {},
     "output_type": "display_data"
    }
   ],
   "source": [
    "pd.DataFrame.from_dict(output_metrics['All']['precision_recall_curve']).plot(x='recall', y='precision', legend=False)\n",
    "plt.xlabel('Recall')\n",
    "plt.ylabel('Precision')"
   ]
  },
  {
   "cell_type": "markdown",
   "metadata": {},
   "source": [
    "## Running models on different lookback cut offs"
   ]
  },
  {
   "cell_type": "code",
   "execution_count": 16,
   "metadata": {},
   "outputs": [
    {
     "data": {
      "text/plain": [
       "2.2794520547945205"
      ]
     },
     "execution_count": 16,
     "metadata": {},
     "output_type": "execute_result"
    }
   ],
   "source": [
    "df[exp_cols].max().max()/365"
   ]
  },
  {
   "cell_type": "code",
   "execution_count": 17,
   "metadata": {},
   "outputs": [
    {
     "name": "stdout",
     "output_type": "stream",
     "text": [
      "2 yrs\n",
      "Computing dataframe...\n",
      "Running crossvalidation...\n",
      "Running fold  1  ...\n",
      "Running fold  2  ...\n",
      "Running fold  3  ...\n",
      "Running fold  4  ...\n",
      "Running fold  5  ...\n",
      "Computing metrics...\n",
      "Computing feature importance...\n",
      "1yr\n",
      "Computing dataframe...\n",
      "Running crossvalidation...\n",
      "Running fold  1  ...\n",
      "Running fold  2  ...\n",
      "Running fold  3  ...\n",
      "Running fold  4  ...\n",
      "Running fold  5  ...\n",
      "Computing metrics...\n",
      "Computing feature importance...\n",
      "6 mo\n",
      "Computing dataframe...\n",
      "Running crossvalidation...\n",
      "Running fold  1  ...\n",
      "Running fold  2  ...\n",
      "Running fold  3  ...\n",
      "Running fold  4  ...\n",
      "Running fold  5  ...\n",
      "Computing metrics...\n",
      "Computing feature importance...\n",
      "3 mo\n",
      "Computing dataframe...\n",
      "Running crossvalidation...\n",
      "Running fold  1  ...\n",
      "Running fold  2  ...\n",
      "Running fold  3  ...\n",
      "Running fold  4  ...\n",
      "Running fold  5  ...\n",
      "Computing metrics...\n",
      "Computing feature importance...\n",
      "1 mo\n",
      "Computing dataframe...\n",
      "Running crossvalidation...\n",
      "Running fold  1  ...\n",
      "Running fold  2  ...\n",
      "Running fold  3  ...\n",
      "Running fold  4  ...\n",
      "Running fold  5  ...\n",
      "Computing metrics...\n",
      "Computing feature importance...\n",
      "1 d\n",
      "Computing dataframe...\n",
      "Running crossvalidation...\n",
      "Running fold  1  ...\n",
      "Running fold  2  ...\n",
      "Running fold  3  ...\n",
      "Running fold  4  ...\n",
      "Running fold  5  ...\n",
      "Computing metrics...\n",
      "Computing feature importance...\n"
     ]
    }
   ],
   "source": [
    "#performing loop on different selection of features\n",
    "output_metrics ={}\n",
    "feature_imp = {}\n",
    "model = XGBClassifier\n",
    "kfold = StratifiedKFold(n_splits = 5, random_state = 7, shuffle = True)\n",
    "#params = {'n_estimators': 50}\n",
    "model_features = {'2 yrs': 2, '1yr': 1, '6 mo': 0.5, '3 mo': 0.25, '1 mo': 1/12, '1 d': 1/365 }\n",
    "\n",
    "for model_name, looklength in model_features.items():\n",
    "    print(model_name)\n",
    "    print(\"Computing dataframe...\")\n",
    "    modelling_data = cut_df(df, looklength)\n",
    "    print(\"Running crossvalidation...\")\n",
    "    cv_outputs = mycv.run_CV(X = modelling_data[exp_cols], \n",
    "                         y = modelling_data[label], \n",
    "                         clf_class = model,\n",
    "                         cv_method=kfold,\n",
    "                         flatten=True)\n",
    "    print(\"Computing metrics...\")\n",
    "    output_metrics[model_name] = mycv.calc_CV_metrics(**cv_outputs['predictions']['test'],\n",
    "                                            metrics=eval_metrics, models=cv_outputs['models'],\n",
    "                                            feature_names=exp_cols)\n",
    "    print(\"Computing feature importance...\")\n",
    "    feature_imp[model_name] = mycv.calc_imp_feature(cv_outputs, exp_cols)"
   ]
  },
  {
   "cell_type": "code",
   "execution_count": 62,
   "metadata": {},
   "outputs": [
    {
     "data": {
      "image/png": "[encoded data removed]",
      "text/plain": [
       "<matplotlib.figure.Figure at 0xe635937048>"
      ]
     },
     "metadata": {},
     "output_type": "display_data"
    }
   ],
   "source": [
    "plt.figure(figsize = (8,9))\n",
    "bins = np.arange(0,1.05,0.05)\n",
    "#for model in output_metrics.keys():\n",
    "for model in ['2 yrs', '1yr', '3 mo', '1 mo', '1 d']:\n",
    "    pr = pd.DataFrame.from_dict(output_metrics[model]['precision_recall_curve'])\n",
    "    if model == '1 d':\n",
    "        bins = bins = np.arange(0,1.2,0.2)\n",
    "    binned_pr = pr.groupby(pd.cut(pr['recall'], bins = bins)).mean()\n",
    "    plt.plot(binned_pr['recall'], binned_pr['precision'], label = model)\n",
    "\n",
    "plt.title('Abbvie SCLC')\n",
    "plt.grid()\n",
    "plt.xlim(0,1.0)\n",
    "plt.xlabel('Recall')\n",
    "plt.ylabel('Precision')\n",
    "plt.legend()\n",
    "plt.show()"
   ]
  },
  {
   "cell_type": "code",
   "execution_count": 54,
   "metadata": {},
   "outputs": [],
   "source": [
    "workbook = pd.ExcelWriter('Abbvie_SCLC.xlsx', engine = 'xlsxwriter')\n",
    "bins = np.arange(0,1.02,0.02)\n",
    "for model in ['2 yrs', '1yr', '3 mo', '1 mo', '1 d']:\n",
    "    pr = pd.DataFrame.from_dict(output_metrics[model]['precision_recall_curve'])\n",
    "    pr = pd.DataFrame.from_dict(output_metrics['2 yrs']['precision_recall_curve'])\n",
    "    binned_df = pr.groupby(pd.cut(pr['recall'], bins = bins)).mean()\n",
    "    binned_df.reset_index(drop=True).to_excel(workbook, sheet_name= model)\n",
    "workbook.save()"
   ]
  },
  {
   "cell_type": "code",
   "execution_count": 23,
   "metadata": {},
   "outputs": [
    {
     "data": {
      "text/plain": [
       "{'PR21_LAST_EXP_DT'}"
      ]
     },
     "execution_count": 23,
     "metadata": {},
     "output_type": "execute_result"
    }
   ],
   "source": [
    "set(feature_imp['2 yrs'].head(10)['Feature']) - set(feature_imp['6 mo'].head(10)['Feature'])"
   ]
  },
  {
   "cell_type": "code",
   "execution_count": null,
   "metadata": {
    "collapsed": true
   },
   "outputs": [],
   "source": []
  }
 ],
 "metadata": {
  "kernelspec": {
   "display_name": "Python 3",
   "language": "python",
   "name": "python3"
  },
  "language_info": {
   "codemirror_mode": {
    "name": "ipython",
    "version": 3
   },
   "file_extension": ".py",
   "mimetype": "text/x-python",
   "name": "python",
   "nbconvert_exporter": "python",
   "pygments_lexer": "ipython3",
   "version": "3.6.3"
  }
 },
 "nbformat": 4,
 "nbformat_minor": 2
}
